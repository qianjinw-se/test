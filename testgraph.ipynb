{
  "nbformat": 4,
  "nbformat_minor": 0,
  "metadata": {
    "colab": {
      "name": "testgraph.ipynb",
      "provenance": [],
      "authorship_tag": "ABX9TyMOVwfl+AOg0N4oYSZIRaEf",
      "include_colab_link": true
    },
    "kernelspec": {
      "name": "python3",
      "display_name": "Python 3"
    }
  },
  "cells": [
    {
      "cell_type": "markdown",
      "metadata": {
        "id": "view-in-github",
        "colab_type": "text"
      },
      "source": [
        "<a href=\"https://colab.research.google.com/github/qianjinw-se/test/blob/master/testgraph.ipynb\" target=\"_parent\"><img src=\"https://colab.research.google.com/assets/colab-badge.svg\" alt=\"Open In Colab\"/></a>"
      ]
    },
    {
      "cell_type": "code",
      "metadata": {
        "id": "SNsPDBPNMUB8",
        "colab_type": "code",
        "colab": {}
      },
      "source": [
        "from sklearn.datasets import load_iris\n",
        "from sklearn import tree\n",
        "from sklearn.externals.six import StringIO\n",
        "import pydot\n",
        "import os  \n",
        "#os.environ[\"PATH\"] += os.pathsep + 'C:/Program Files (x86)/Graphviz2.38/bin/'\n",
        "iris = load_iris()\n",
        "clf = tree.DecisionTreeClassifier()\n",
        "clf = clf.fit(iris.data, iris.target)\n",
        "\n",
        "dot_data = StringIO(initial_value='', newline='\\n')\n",
        "tree.export_graphviz(clf, out_file=dot_data)\n",
        "graph = pydot.graph_from_dot_data(dot_data.getvalue())\n",
        "graph[0].write_dot('iris_simple.dot')\n",
        "graph[0].write_png('iris_simple.png')"
      ],
      "execution_count": 0,
      "outputs": []
    }
  ]
}